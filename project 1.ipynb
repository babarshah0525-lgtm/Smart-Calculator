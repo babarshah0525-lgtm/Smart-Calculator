{
 "cells": [
  {
   "cell_type": "code",
   "execution_count": 18,
   "id": "aab9b278-268b-4d13-abe9-911fd06f6bf6",
   "metadata": {},
   "outputs": [
    {
     "name": "stdout",
     "output_type": "stream",
     "text": [
      "Hello! Welcome to our Smart Calculator.\n",
      "Please! Use these Operations.\n",
      "+,-,*,/\n"
     ]
    },
    {
     "name": "stdin",
     "output_type": "stream",
     "text": [
      "Please! Write First Number. 3\n",
      "enter Operators +,-,*,/: 2\n",
      "Please! Write Second Number. 2\n"
     ]
    },
    {
     "name": "stdout",
     "output_type": "stream",
     "text": [
      "the Input is In Valid\n",
      "Please! Read the Operations above Enter correct Input.\n"
     ]
    }
   ],
   "source": [
    "print(\"Hello! Welcome to our Smart Calculator.\")\n",
    "print(\"Please! Use these Operations.\\n+,-,*,/\")\n",
    "num1 = int(input(\"Please! Write First Number.\"))\n",
    "operator = (input(\"enter Operators +,-,*,/:\"))\n",
    "num2 = int(input(\"Please! Write Second Number.\"))\n",
    "if operator == \"+\":\n",
    "    print(f\"Addition of {num1} + {num2} = {num1 + num2}\")\n",
    "elif operator == \"-\":\n",
    "    print(f\"Difference of {num1} - {num2} = {num1 - num2}\")\n",
    "elif operator == \"*\":\n",
    "    print(f\"Product of {num1} * {num2} = {num1 * num2}\")\n",
    "elif operator == \"/\":\n",
    "    print(f\"Divsion of {num1} / {num2} = {num1 / num2}\")\n",
    "else:\n",
    "    print(\"the Input is In Valid\\nPlease! Read the Operations above Enter correct Input.\")\n",
    "    \n"
   ]
  },
  {
   "cell_type": "code",
   "execution_count": null,
   "id": "d7948b88-7478-4282-a98d-6cc06dc223d7",
   "metadata": {},
   "outputs": [],
   "source": []
  }
 ],
 "metadata": {
  "kernelspec": {
   "display_name": "Python 3 (ipykernel)",
   "language": "python",
   "name": "python3"
  },
  "language_info": {
   "codemirror_mode": {
    "name": "ipython",
    "version": 3
   },
   "file_extension": ".py",
   "mimetype": "text/x-python",
   "name": "python",
   "nbconvert_exporter": "python",
   "pygments_lexer": "ipython3",
   "version": "3.13.5"
  }
 },
 "nbformat": 4,
 "nbformat_minor": 5
}
